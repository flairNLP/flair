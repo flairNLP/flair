{
 "cells": [
  {
   "cell_type": "code",
   "execution_count": null,
   "id": "72f43fa4",
   "metadata": {},
   "outputs": [],
   "source": [
    "from flair.models import SequenceTagger\n",
    "from flair.embeddings import TransformerWordEmbeddings, TransformerDocumentEmbeddings\n",
    "\n",
    "model = SequenceTagger.load(\"ner-large\")\n",
    "assert isinstance(model.embeddings, (TransformerWordEmbeddings, TransformerDocumentEmbeddings))"
   ]
  },
  {
   "cell_type": "code",
   "execution_count": null,
   "id": "05e05295",
   "metadata": {},
   "outputs": [],
   "source": [
    "from flair.data import Sentence\n",
    "sentences = [Sentence(\"Hi Pier, nice to meet you\"), Sentence(\"This is the first positive result!\")]"
   ]
  },
  {
   "cell_type": "code",
   "execution_count": null,
   "id": "bc4d8661",
   "metadata": {},
   "outputs": [],
   "source": [
    "model.embeddings = model.embeddings.export_onnx(\"flert-embeddings.onnx\", sentences, providers=[\"CUDAExecutionProvider\", \"CPUExecutionProvider\"])"
   ]
  },
  {
   "cell_type": "code",
   "execution_count": null,
   "id": "5a94ed3c",
   "metadata": {},
   "outputs": [],
   "source": []
  }
 ],
 "metadata": {
  "kernelspec": {
   "display_name": "Python 3 (ipykernel)",
   "language": "python",
   "name": "python3"
  },
  "language_info": {
   "codemirror_mode": {
    "name": "ipython",
    "version": 3
   },
   "file_extension": ".py",
   "mimetype": "text/x-python",
   "name": "python",
   "nbconvert_exporter": "python",
   "pygments_lexer": "ipython3",
   "version": "3.9.13"
  }
 },
 "nbformat": 4,
 "nbformat_minor": 5
}
