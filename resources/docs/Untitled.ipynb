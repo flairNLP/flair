{
 "cells": [
  {
   "cell_type": "code",
   "execution_count": 1,
   "id": "72f43fa4",
   "metadata": {},
   "outputs": [
    {
     "ename": "SyntaxError",
     "evalue": "can't use starred expression here (transformer.py, line 778)",
     "output_type": "error",
     "traceback": [
      "Traceback \u001b[0;36m(most recent call last)\u001b[0m:\n",
      "  File \u001b[1;32m/opt/homebrew/Caskroom/miniforge/base/envs/flair/lib/python3.9/site-packages/IPython/core/interactiveshell.py:3398\u001b[0m in \u001b[1;35mrun_code\u001b[0m\n    exec(code_obj, self.user_global_ns, self.user_ns)\n",
      "  Input \u001b[1;32mIn [1]\u001b[0m in \u001b[1;35m<cell line: 1>\u001b[0m\n    from flair.models import SequenceTagger\n",
      "  File \u001b[1;32m/opt/homebrew/Caskroom/miniforge/base/envs/flair/lib/python3.9/site-packages/flair/__init__.py:23\u001b[0m in \u001b[1;35m<module>\u001b[0m\n    from . import (  # noqa: E402 import after setting device\n",
      "  File \u001b[1;32m/opt/homebrew/Caskroom/miniforge/base/envs/flair/lib/python3.9/site-packages/flair/models/__init__.py:1\u001b[0m in \u001b[1;35m<module>\u001b[0m\n    from .clustering import ClusteringModel\n",
      "  File \u001b[1;32m/opt/homebrew/Caskroom/miniforge/base/envs/flair/lib/python3.9/site-packages/flair/models/clustering.py:14\u001b[0m in \u001b[1;35m<module>\u001b[0m\n    from flair.embeddings import DocumentEmbeddings\n",
      "\u001b[0;36m  File \u001b[0;32m/opt/homebrew/Caskroom/miniforge/base/envs/flair/lib/python3.9/site-packages/flair/embeddings/__init__.py:2\u001b[0;36m in \u001b[0;35m<module>\u001b[0;36m\u001b[0m\n\u001b[0;31m    from flair.embeddings.transformer import (\u001b[0m\n",
      "\u001b[0;36m  File \u001b[0;32m/opt/homebrew/Caskroom/miniforge/base/envs/flair/lib/python3.9/site-packages/flair/embeddings/transformer.py:778\u001b[0;36m\u001b[0m\n\u001b[0;31m    input_data = [((*example_tensors.values()), 0)]\u001b[0m\n\u001b[0m                    ^\u001b[0m\n\u001b[0;31mSyntaxError\u001b[0m\u001b[0;31m:\u001b[0m can't use starred expression here\n"
     ]
    }
   ],
   "source": [
    "from flair.models import SequenceTagger\n",
    "from flair.embeddings import TransformerWordEmbeddings, TransformerDocumentEmbeddings\n",
    "\n",
    "model = SequenceTagger.load(\"ner-large\")\n",
    "assert isinstance(model.embeddings, (TransformerWordEmbeddings, TransformerDocumentEmbeddings))"
   ]
  },
  {
   "cell_type": "code",
   "execution_count": null,
   "id": "05e05295",
   "metadata": {},
   "outputs": [],
   "source": [
    "from flair.data import Sentence\n",
    "sentences = [Sentence(\"Hi Pier, nice to meet you\"), Sentence(\"This is the first positive result!\")]"
   ]
  },
  {
   "cell_type": "code",
   "execution_count": null,
   "id": "bc4d8661",
   "metadata": {},
   "outputs": [],
   "source": [
    "model.embeddings = model.embeddings.export_onnx(\"flert-embeddings.onnx\", sentences, providers=[\"CUDAExecutionProvider\", \"CPUExecutionProvider\"])"
   ]
  },
  {
   "cell_type": "code",
   "execution_count": null,
   "id": "5a94ed3c",
   "metadata": {},
   "outputs": [],
   "source": []
  }
 ],
 "metadata": {
  "kernelspec": {
   "display_name": "Python 3 (ipykernel)",
   "language": "python",
   "name": "python3"
  },
  "language_info": {
   "codemirror_mode": {
    "name": "ipython",
    "version": 3
   },
   "file_extension": ".py",
   "mimetype": "text/x-python",
   "name": "python",
   "nbconvert_exporter": "python",
   "pygments_lexer": "ipython3",
   "version": "3.9.13"
  }
 },
 "nbformat": 4,
 "nbformat_minor": 5
}
