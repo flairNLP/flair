{
 "cells": [
  {
   "cell_type": "code",
   "execution_count": 1,
   "id": "a8a86afe",
   "metadata": {},
   "outputs": [
    {
     "name": "stderr",
     "output_type": "stream",
     "text": [
      "/opt/homebrew/Caskroom/miniforge/base/envs/flair/lib/python3.9/site-packages/nebullvm/inference_learners/openvino.py:44: UserWarning: No Openvino library detected. The Openvino Inference learner should not be used.\n",
      "  warnings.warn(\n",
      "/opt/homebrew/Caskroom/miniforge/base/envs/flair/lib/python3.9/site-packages/nebullvm/optimizers/blade_disc.py:37: UserWarning: No BladeDISC library detected. The BladeDISC Inference learner should not be used.\n",
      "  warnings.warn(\n",
      "/opt/homebrew/Caskroom/miniforge/base/envs/flair/lib/python3.9/site-packages/nebullvm/inference_learners/deepsparse.py:34: UserWarning: No valid deepsparse installation found. The compiler won't be used in the following.\n",
      "  warnings.warn(\n"
     ]
    },
    {
     "name": "stdout",
     "output_type": "stream",
     "text": [
      "2022-09-01 17:40:10,445 loading file /Users/valeriosofi/.flair/models/ner-english-large/models--flair--ner-english-large/snapshots/e2b1caabf7f9bac1e7829db73eac734df7e6ad7b/pytorch_model.bin\n",
      "2022-09-01 17:40:34,597 SequenceTagger predicts: Dictionary with 20 tags: <unk>, O, S-ORG, S-MISC, B-PER, E-PER, S-LOC, B-ORG, E-ORG, I-PER, S-PER, B-MISC, I-MISC, E-MISC, I-ORG, B-LOC, E-LOC, I-LOC, <START>, <STOP>\n"
     ]
    }
   ],
   "source": [
    "from flair.models import SequenceTagger\n",
    "from flair.embeddings import TransformerWordEmbeddings, TransformerDocumentEmbeddings\n",
    "\n",
    "model = SequenceTagger.load(\"ner-large\")\n",
    "model.eval()\n",
    "assert isinstance(model.embeddings, (TransformerWordEmbeddings, TransformerDocumentEmbeddings))"
   ]
  },
  {
   "cell_type": "code",
   "execution_count": 2,
   "id": "4f9fea9e",
   "metadata": {},
   "outputs": [],
   "source": [
    "from flair.data import Sentence\n",
    "sentences = [Sentence(\"Hi Pier, nice to meet you\"), Sentence(\"This is the first positive result!\")]"
   ]
  },
  {
   "cell_type": "code",
   "execution_count": 3,
   "id": "0410482d",
   "metadata": {},
   "outputs": [
    {
     "data": {
      "text/plain": [
       "Sentence: \"George Washington went to Washington .\" → [\"George Washington\"/PER, \"Washington\"/LOC]"
      ]
     },
     "execution_count": 3,
     "metadata": {},
     "output_type": "execute_result"
    }
   ],
   "source": [
    "sentence = Sentence('George Washington went to Washington.')\n",
    "model.predict(sentence)\n",
    "sentence"
   ]
  },
  {
   "cell_type": "code",
   "execution_count": 4,
   "id": "e7f59c7b",
   "metadata": {},
   "outputs": [
    {
     "name": "stderr",
     "output_type": "stream",
     "text": [
      "/Users/valeriosofi/Projects/valerio/flair/flair/embeddings/transformer.py:1162: TracerWarning: Converting a tensor to a Python integer might cause the trace to be incorrect. We can't record the data flow of Python values, so this value will be treated as a constant in the future. This means that the trace might not generalize to other inputs!\n",
      "  word_ids.shape[0], int(lengths.max()), self.embedding_length_internal, device=flair.device\n",
      "/opt/homebrew/Caskroom/miniforge/base/envs/flair/lib/python3.9/site-packages/torch/jit/annotations.py:296: UserWarning: TorchScript will treat type annotations of Tensor dtype-specific subtypes as if they are normal Tensors. dtype constraints are not enforced in compilation either.\n",
      "  warnings.warn(\"TorchScript will treat type annotations of Tensor \"\n",
      "/opt/homebrew/Caskroom/miniforge/base/envs/flair/lib/python3.9/site-packages/onnxruntime/capi/onnxruntime_inference_collection.py:55: UserWarning: Specified provider 'CUDAExecutionProvider' is not in available provider names.Available providers: 'CPUExecutionProvider'\n",
      "  warnings.warn(\"Specified provider '{}' is not in available provider names.\"\n",
      "2022-09-01 16:41:00.847270 [W:onnxruntime:, graph.cc:3526 CleanUnusedInitializersAndNodeArgs] Removing initializer '3724'. It is not used by any node and should be removed from the model.\n",
      "2022-09-01 16:41:00.847289 [W:onnxruntime:, graph.cc:3526 CleanUnusedInitializersAndNodeArgs] Removing initializer '3723'. It is not used by any node and should be removed from the model.\n",
      "2022-09-01 16:41:00.847293 [W:onnxruntime:, graph.cc:3526 CleanUnusedInitializersAndNodeArgs] Removing initializer '3722'. It is not used by any node and should be removed from the model.\n",
      "2022-09-01 16:41:00.847297 [W:onnxruntime:, graph.cc:3526 CleanUnusedInitializersAndNodeArgs] Removing initializer '3728'. It is not used by any node and should be removed from the model.\n",
      "2022-09-01 16:41:00.847309 [W:onnxruntime:, graph.cc:3526 CleanUnusedInitializersAndNodeArgs] Removing initializer '3776'. It is not used by any node and should be removed from the model.\n",
      "2022-09-01 16:41:00.847311 [W:onnxruntime:, graph.cc:3526 CleanUnusedInitializersAndNodeArgs] Removing initializer '3774'. It is not used by any node and should be removed from the model.\n",
      "2022-09-01 16:41:00.847314 [W:onnxruntime:, graph.cc:3526 CleanUnusedInitializersAndNodeArgs] Removing initializer '3780'. It is not used by any node and should be removed from the model.\n",
      "2022-09-01 16:41:00.847319 [W:onnxruntime:, graph.cc:3526 CleanUnusedInitializersAndNodeArgs] Removing initializer '3775'. It is not used by any node and should be removed from the model.\n",
      "2022-09-01 16:41:00.847330 [W:onnxruntime:, graph.cc:3526 CleanUnusedInitializersAndNodeArgs] Removing initializer '3922'. It is not used by any node and should be removed from the model.\n",
      "2022-09-01 16:41:00.847333 [W:onnxruntime:, graph.cc:3526 CleanUnusedInitializersAndNodeArgs] Removing initializer '3920'. It is not used by any node and should be removed from the model.\n",
      "2022-09-01 16:41:00.847336 [W:onnxruntime:, graph.cc:3526 CleanUnusedInitializersAndNodeArgs] Removing initializer '3921'. It is not used by any node and should be removed from the model.\n",
      "2022-09-01 16:41:00.847339 [W:onnxruntime:, graph.cc:3526 CleanUnusedInitializersAndNodeArgs] Removing initializer '3926'. It is not used by any node and should be removed from the model.\n",
      "2022-09-01 16:41:00.847349 [W:onnxruntime:, graph.cc:3526 CleanUnusedInitializersAndNodeArgs] Removing initializer '3974'. It is not used by any node and should be removed from the model.\n",
      "2022-09-01 16:41:00.847352 [W:onnxruntime:, graph.cc:3526 CleanUnusedInitializersAndNodeArgs] Removing initializer '3978'. It is not used by any node and should be removed from the model.\n",
      "2022-09-01 16:41:00.847355 [W:onnxruntime:, graph.cc:3526 CleanUnusedInitializersAndNodeArgs] Removing initializer '3973'. It is not used by any node and should be removed from the model.\n",
      "2022-09-01 16:41:00.847357 [W:onnxruntime:, graph.cc:3526 CleanUnusedInitializersAndNodeArgs] Removing initializer '3972'. It is not used by any node and should be removed from the"
     ]
    }
   ],
   "source": [
    "model.embeddings = model.embeddings.export_onnx(\"flert-embeddings.onnx\", sentences, providers=[\"CUDAExecutionProvider\", \"CPUExecutionProvider\"])"
   ]
  },
  {
   "cell_type": "code",
   "execution_count": null,
   "id": "27767349",
   "metadata": {},
   "outputs": [],
   "source": [
    "model.embeddings = model.embeddings.optimize_nebuly(sentences, ignore_compilers=[\"tvm\"])"
   ]
  },
  {
   "cell_type": "code",
   "execution_count": 6,
   "id": "ecda8219",
   "metadata": {},
   "outputs": [
    {
     "data": {
      "text/plain": [
       "Sentence: \"George Washington went to Washington .\" → [\"George Washington\"/PER, \"Washington\"/LOC]"
      ]
     },
     "execution_count": 6,
     "metadata": {},
     "output_type": "execute_result"
    }
   ],
   "source": [
    "sentence = Sentence('George Washington went to Washington.')\n",
    "model.predict(sentence)\n",
    "sentence"
   ]
  },
  {
   "cell_type": "code",
   "execution_count": null,
   "id": "664cdb17",
   "metadata": {},
   "outputs": [],
   "source": []
  }
 ],
 "metadata": {
  "kernelspec": {
   "display_name": "Python 3 (ipykernel)",
   "language": "python",
   "name": "python3"
  },
  "language_info": {
   "codemirror_mode": {
    "name": "ipython",
    "version": 3
   },
   "file_extension": ".py",
   "mimetype": "text/x-python",
   "name": "python",
   "nbconvert_exporter": "python",
   "pygments_lexer": "ipython3",
   "version": "3.9.13"
  }
 },
 "nbformat": 4,
 "nbformat_minor": 5
}
