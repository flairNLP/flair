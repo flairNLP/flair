{
 "cells": [
  {
   "cell_type": "code",
   "execution_count": 1,
   "id": "85225e14",
   "metadata": {},
   "outputs": [
    {
     "name": "stderr",
     "output_type": "stream",
     "text": [
      "/opt/homebrew/Caskroom/miniforge/base/envs/flair/lib/python3.9/site-packages/nebullvm/inference_learners/openvino.py:44: UserWarning: No Openvino library detected. The Openvino Inference learner should not be used.\n",
      "  warnings.warn(\n",
      "/opt/homebrew/Caskroom/miniforge/base/envs/flair/lib/python3.9/site-packages/nebullvm/optimizers/blade_disc.py:37: UserWarning: No BladeDISC library detected. The BladeDISC Inference learner should not be used.\n",
      "  warnings.warn(\n",
      "/opt/homebrew/Caskroom/miniforge/base/envs/flair/lib/python3.9/site-packages/nebullvm/inference_learners/deepsparse.py:34: UserWarning: No valid deepsparse installation found. The compiler won't be used in the following.\n",
      "  warnings.warn(\n"
     ]
    },
    {
     "name": "stdout",
     "output_type": "stream",
     "text": [
      "2022-09-01 16:12:31,481 loading file /Users/valeriosofi/.flair/models/ner-english-large/models--flair--ner-english-large/snapshots/e2b1caabf7f9bac1e7829db73eac734df7e6ad7b/pytorch_model.bin\n",
      "2022-09-01 16:12:52,108 SequenceTagger predicts: Dictionary with 20 tags: <unk>, O, S-ORG, S-MISC, B-PER, E-PER, S-LOC, B-ORG, E-ORG, I-PER, S-PER, B-MISC, I-MISC, E-MISC, I-ORG, B-LOC, E-LOC, I-LOC, <START>, <STOP>\n"
     ]
    }
   ],
   "source": [
    "from flair.models import SequenceTagger\n",
    "from flair.embeddings import TransformerWordEmbeddings, TransformerDocumentEmbeddings\n",
    "\n",
    "model = SequenceTagger.load(\"ner-large\")\n",
    "assert isinstance(model.embeddings, (TransformerWordEmbeddings, TransformerDocumentEmbeddings))"
   ]
  },
  {
   "cell_type": "code",
   "execution_count": 2,
   "id": "7107b7fa",
   "metadata": {},
   "outputs": [],
   "source": [
    "from flair.data import Sentence\n",
    "sentences = [Sentence(\"Hi Pier, nice to meet you\"), Sentence(\"This is the first positive result!\")]"
   ]
  },
  {
   "cell_type": "code",
   "execution_count": 3,
   "id": "5a5e90b1",
   "metadata": {},
   "outputs": [
    {
     "name": "stdout",
     "output_type": "stream",
     "text": [
      "None\n"
     ]
    }
   ],
   "source": [
    "print(model.predict(sentences))"
   ]
  },
  {
   "cell_type": "code",
   "execution_count": 4,
   "id": "89c025af",
   "metadata": {},
   "outputs": [
    {
     "name": "stderr",
     "output_type": "stream",
     "text": [
      "/Users/valeriosofi/Projects/valerio/flair/flair/embeddings/transformer.py:1158: TracerWarning: Converting a tensor to a Python integer might cause the trace to be incorrect. We can't record the data flow of Python values, so this value will be treated as a constant in the future. This means that the trace might not generalize to other inputs!\n",
      "  word_ids.shape[0], int(lengths.max()), self.embedding_length_internal, device=flair.device\n",
      "/opt/homebrew/Caskroom/miniforge/base/envs/flair/lib/python3.9/site-packages/torch/jit/annotations.py:296: UserWarning: TorchScript will treat type annotations of Tensor dtype-specific subtypes as if they are normal Tensors. dtype constraints are not enforced in compilation either.\n",
      "  warnings.warn(\"TorchScript will treat type annotations of Tensor \"\n",
      "01/09/2022 04:13:34 PM Running pipeline: pytorch_pipeline\n",
      "01/09/2022 04:13:34 PM Running step: no_compression\n",
      "01/09/2022 04:13:34 PM Running step: optimizer_step\n",
      "01/09/2022 04:13:34 PM Optimizations: ('torchscript',)\n",
      "  0%|                                                                                                                                                                                                                                                                                             | 0/1 [00:00<?, ?it/s]01/09/2022 04:13:34 PM Optimizing output of no_compression\n",
      "\n",
      "  0%|                                                                                                                                                                                                                                                                                             | 0/1 [00:00<?, ?it/s]\u001b[A01/09/2022 04:13:34 PM Optimizing with PytorchBackendOptimizer and q_type: None.\n",
      "01/09/2022 04:13:34 PM Compilation failed with torch interface of ModelCompiler.TORCHSCRIPT. Got error keyword-arg expansion is not supported:\n",
      "  File \"/Users/valeriosofi/Projects/valerio/flair/flair/embeddings/transformer.py\", line 1110\n",
      "        if attention_mask is not None:\n",
      "            model_kwargs[\"attention_mask\"] = attention_mask\n",
      "        hidden_states = self.model(input_ids, **model_kwargs)[-1]\n",
      "                                                ~~~~~~~~~~~~ <--- HERE\n",
      "    \n",
      "        # make the tuple a tensor; makes working with it easier.\n",
      ". If possible the compilation will be re-scheduled with another interface. Please consult the documentation for further info or open an issue on GitHub for receiving assistance.\n",
      "\n",
      "100%|█████████████████████████████████████████████████████████████████████████████████████████████████████████████████████████████████████████████████████████████████████████████████████████████████████████████████████████████████████████████████████████████████████████████████████| 1/1 [00:00<00:00,  8.56it/s]\u001b[A\n",
      "100%|█████████████████████████████████████████████████████████████████████████████████████████████████████████████████████████████████████████████████████████████████████████████████████████████████████████████████████████████████████████████████████████████████████████████████████| 1/1 [00:00<00:00,  8.31it/s]\n",
      "01/09/2022 04:13:34 PM Running pipeline: onnx_pipeline\n",
      "01/09/2022 04:13:34 PM Running step: no_compression\n",
      "01/09/2022 04:13:34 PM Running step: optimizer_step\n",
      "01/09/2022 04:13:34 PM Optimizations: ('onnxruntime',)\n",
      "  0%|                                                                                                                                                                                                                                                                                             | 0/1 [00:00<?, ?it/s]01/09/2022 04:13:34 PM Optimizing output of no_compression\n",
      "\n",
      "  0%|                                                                                                                                                                                                                                                                                             | 0/1 [00:00<?, ?it/s]\u001b[A01/09/2022 04:13:34 PM Optimizing with ONNXOptimizer and q_type: None.\n",
      "2022-09-01 15:13:36.673098 [W:onnxruntime:, graph.cc:3526 CleanUnusedInitializersAndNodeArgs] Removing initializer '3724'. It is not used by any node and should be removed from the model.\n",
      "2022-09-01 15:13:36.673115 [W:onnxruntime:, graph.cc:3526 CleanUnusedInitializersAndNodeArgs] Removing initializer '3723'. It is not used by any node and should be removed from the model.\n",
      "2022-09-01 15:13:36.673120 [W:onnxruntime:, graph.cc:3526 CleanUnusedInitializersAndNodeArgs] Removing initializer '3722'. It is not used by any node and should be removed from the model.\n",
      "2022-09-01 15:13:36.673127 [W:onnxruntime:, graph.cc:3526 CleanUnusedInitializersAndNodeArgs] Removing initializer '3728'. It is not used by any node and should be removed from the model.\n",
      "2022-09-01 15:13:36.673140 [W:onnxruntime:, graph.cc:3526 CleanUnusedInitializersAndNodeArgs] Removing initializer '3776'. It is not used by any node and should be removed from the model.\n",
      "2022-09-01 15:13:36.673178 [W:onnxruntime:, graph.cc:3526 CleanUnusedInitializersAndNodeArgs] Removing initializer '3774'. It is not used by any node and should be removed from the model.\n",
      "2022-09-01 15:13:36.673187 [W:onnxruntime:, graph.cc:3526 CleanUnusedInitializersAndNodeArgs] Removing initializer '3780'. It is not used by any node and should be removed from the model.\n",
      "2022-09-01 15:13:36.673191 [W:onnxruntime:, graph.cc:3526 CleanUnusedInitializersAndNodeArgs] Removing initializer '3775'. It is not used by any node and should be removed from the model.\n",
      "2022-09-01 15:13:36.673260 [W:onnxruntime:, graph.cc:3526 CleanUnusedInitializersAndNodeArgs] Removing initializer '3922'. It is not used by any node and should be removed from the model.\n",
      "2022-09-01 15:13:36.673264 [W:onnxruntime:, graph.cc:3526 CleanUnusedInitializersAndNodeArgs] Removing initializer '3920'. It is not used by any node and should be removed from the model.\n",
      "2022-09-01 15:13:36.673270 [W:onnxruntime:, graph.cc:3526 CleanUnusedInitializersAndNodeArgs] Removing initializer '3921'. It is not used by any node and should be removed from the model.\n",
      "2022-09-01 15:13:36.673274 [W:onnxruntime:, graph.cc:3526 CleanUnusedInitializersAndNodeArgs] Removing initializer '3926'. It is not used by any node and should be removed from the model.\n",
      "2022-09-01 15:13:36.673318 [W:onnxruntime:, graph.cc:3526 CleanUnusedInitializersAndNodeArgs] Removing initializer '3974'. It is not used by any node and should be removed from the model.\n",
      "2022-09-01 15:13:36.673322 [W:onnxruntime:, graph.cc:3526 CleanUnusedInitializersAndNodeArgs] Removing initializer '3978'. It is not used by any node and should be removed from the model.\n",
      "2022-09-01 15:13:36.673325 [W:onnxruntime:, graph.cc:3526 CleanUnusedInitializersAndNodeArgs] Removing initializer '3973'. It is not used by any node and should be removed from the model.\n",
      "2022-09-01 15:13:36.673330 [W:onnxruntime:, graph.cc:3526 CleanUnusedInitializersAndNodeArgs] Removing initializer '3972'. It is not used by any node and should be removed from the model.\n",
      "2022-09-01 15:13:36.673363 [W:onnxruntime:, graph.cc:3526 CleanUnusedInitializersAndNodeArgs] Removing initializer '4195'. It is not used by any node and should be removed from the model.\n",
      "2022-09-01 15:13:36.673367 [W:onnxruntime:, graph.cc:3526 CleanUnusedInitializersAndNodeArgs] Removing initializer '4197'. It is not used by any node and should be removed from the model.\n",
      "2022-09-01 15:13:36.673370 [W:onnxruntime:, graph.cc:3526 CleanUnusedInitializersAndNodeArgs] Removing initializer '4179'. It is not used by any node and should be removed from the model.\n",
      "2022-09-01 15:13:36.673374 [W:onnxruntime:, graph.cc:3526 CleanUnusedInitializersAndNodeArgs] Removing initializer '4188'. It is not used by any node and should be removed from the model.\n",
      "2022-09-01 15:13:36.673377 [W:onnxruntime:, graph.cc:3526 CleanUnusedInitializersAndNodeArgs] Removing initializer '4159'. It is not used by any node and should be removed from the model.\n",
      "2022-09-01 15:13:36.673380 [W:onnxruntime:, graph.cc:3526 CleanUnusedInitializersAndNodeArgs] Removing initializer '4155'. It is not used by any node and should be removed from the model.\n",
      "2022-09-01 15:13:36.673384 [W:onnxruntime:, graph.cc:3526 CleanUnusedInitializersAndNodeArgs] Removing initializer '4154'. It is not used by any node and should be removed from the model.\n",
      "2022-09-01 15:13:36.673387 [W:onnxruntime:, graph.cc:3526 CleanUnusedInitializersAndNodeArgs] Removing initializer '4087'. It is not used by any node and should be removed from the model.\n",
      "2022-09-01 15:13:36.673390 [W:onnxruntime:, graph.cc:3526 CleanUnusedInitializersAndNodeArgs] Removing initializer '4153'. It is not used by any node and should be removed from the model.\n",
      "2022-09-01 15:13:36.673430 [W:onnxruntime:, graph.cc:3526 CleanUnusedInitializersAndNodeArgs] Removing initializer '4132'. It is not used by any node and should be removed from the model.\n",
      "2022-09-01 15:13:36.673436 [W:onnxruntime:, graph.cc:3526 CleanUnusedInitializersAndNodeArgs] Removing initializer '4135'. It is not used by any node and should be removed from the model.\n",
      "2022-09-01 15:13:36.673440 [W:onnxruntime:, graph.cc:3526 CleanUnusedInitializersAndNodeArgs] Removing initializer '4117'. It is not used by any node and should be removed from the model.\n",
      "2022-09-01 15:13:36.673443 [W:onnxruntime:, graph.cc:3526 CleanUnusedInitializersAndNodeArgs] Removing initializer '4121'. It is not used by any node and should be removed from the model.\n",
      "2022-09-01 15:13:36.673446 [W:onnxruntime:, graph.cc:3526 CleanUnusedInitializersAndNodeArgs] Removing initializer '4137'. It is not used by any node and should be removed from the model.\n",
      "2022-09-01 15:13:36.673450 [W:onnxruntime:, graph.cc:3526 CleanUnusedInitializersAndNodeArgs] Removing initializer '4116'. It is not used by any node and should be removed from the model.\n"
     ]
    },
    {
     "name": "stderr",
     "output_type": "stream",
     "text": [
      "\n",
      "100%|█████████████████████████████████████████████████████████████████████████████████████████████████████████████████████████████████████████████████████████████████████████████████████████████████████████████████████████████████████████████████████████████████████████████████████| 1/1 [00:03<00:00,  3.24s/it]\u001b[A\n",
      "100%|█████████████████████████████████████████████████████████████████████████████████████████████████████████████████████████████████████████████████████████████████████████████████████████████████████████████████████████████████████████████████████████████████████████████████████| 1/1 [00:03<00:00,  3.24s/it]\n"
     ]
    }
   ],
   "source": [
    "model.embeddings = model.embeddings.optimize_nebuly(sentences, ignore_compilers=[\"tvm\"])"
   ]
  },
  {
   "cell_type": "code",
   "execution_count": 5,
   "id": "6f3b4161",
   "metadata": {},
   "outputs": [
    {
     "name": "stdout",
     "output_type": "stream",
     "text": [
      "None\n"
     ]
    }
   ],
   "source": [
    "print(model.predict(sentences))"
   ]
  },
  {
   "cell_type": "code",
   "execution_count": 8,
   "id": "84d3eb13",
   "metadata": {},
   "outputs": [],
   "source": [
    "sentences = [Sentence(\"The grass is green .\")]"
   ]
  },
  {
   "cell_type": "code",
   "execution_count": 9,
   "id": "62b17e0f",
   "metadata": {},
   "outputs": [
    {
     "name": "stdout",
     "output_type": "stream",
     "text": [
      "None\n"
     ]
    }
   ],
   "source": [
    "print(model.predict(sentences))"
   ]
  },
  {
   "cell_type": "code",
   "execution_count": null,
   "id": "e1121180",
   "metadata": {},
   "outputs": [],
   "source": []
  }
 ],
 "metadata": {
  "kernelspec": {
   "display_name": "Python 3 (ipykernel)",
   "language": "python",
   "name": "python3"
  },
  "language_info": {
   "codemirror_mode": {
    "name": "ipython",
    "version": 3
   },
   "file_extension": ".py",
   "mimetype": "text/x-python",
   "name": "python",
   "nbconvert_exporter": "python",
   "pygments_lexer": "ipython3",
   "version": "3.9.13"
  }
 },
 "nbformat": 4,
 "nbformat_minor": 5
}
